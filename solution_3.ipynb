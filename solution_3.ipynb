{
 "cells": [
  {
   "cell_type": "markdown",
   "metadata": {},
   "source": [
    "## Task1\n",
    "<p>Implement a Python program to generate all sentences where subject is in [\"Americans\",\n",
    "\"Indians\"] and verb is in [\"Play\", \"watch\"] and the object is in [\"Baseball\",\"cricket\"].</p>\n",
    "\n",
    "<p><h2>Hint: Subject,Verb and Object should be declared in the program as shown below.</h2></p>\n",
    "<p>subjects=[\"Americans \",\"Indians\"]</p>\n",
    "<p>verbs=[\"play\",\"watch\"]</p>\n",
    "<p>objects=[\"Baseball\",\"Cricket\"]</p>\n",
    "<p><h2>Output should come as below:</h2></p>\n",
    "<p>Americans play Baseball.</p>\n",
    "<p>Americans play Cricket.</p>\n",
    "<p>Americans watch Baseball.</p>\n",
    "<p>Americans watch Cricket.</p>\n",
    "<p>Indians play Baseball.</p>\n",
    "<p>Indians play Cricket.</p>\n",
    "<p>Indians watch Baseball.</p>\n",
    "<p>Indians watch Cricket.</p>"
   ]
  },
  {
   "cell_type": "code",
   "execution_count": 5,
   "metadata": {},
   "outputs": [
    {
     "name": "stdout",
     "output_type": "stream",
     "text": [
      "Americans Play Baseball\n",
      "Americans Play cricket\n",
      "Americans watch Baseball\n",
      "Americans watch cricket\n",
      "Indians Play Baseball\n",
      "Indians Play cricket\n",
      "Indians watch Baseball\n",
      "Indians watch cricket\n"
     ]
    }
   ],
   "source": [
    "subject=[\"Americans\", \"Indians\"] \n",
    "verb=[\"Play\", \"watch\"] \n",
    "obj=[\"Baseball\",\"cricket\"] \n",
    "# list comprehension... \n",
    "sl = [(su+\" \"+ vb + \" \" + ob) for su in subject for vb in verb for ob in obj] \n",
    "for ss in sl: \n",
    "    print (ss)"
   ]
  },
  {
   "cell_type": "markdown",
   "metadata": {},
   "source": [
    "## Task2\n",
    "## Write a function so that the columns of the output matrix are powers of the input vector.\n",
    "## The order of the powers is determined by the increasing boolean argument. Specifically, when increasing is False, the i-th output column is the input vector raised element-wise to the power of N - i - 1."
   ]
  },
  {
   "cell_type": "code",
   "execution_count": 48,
   "metadata": {},
   "outputs": [
    {
     "name": "stdout",
     "output_type": "stream",
     "text": [
      "[[  1   1   1   1   1]\n",
      " [ 16   8   4   2   1]\n",
      " [ 81  27   9   3   1]\n",
      " [256  64  16   4   1]\n",
      " [625 125  25   5   1]]\n"
     ]
    }
   ],
   "source": [
    "def vector_mat():\n",
    "    x=np.array([1,2,3,4,5])\n",
    "    N=5\n",
    "    return [x**(N-1-i) for i in range(N)]\n",
    "dp = vector_mat()\n",
    "print(np.mat(np.column_stack(dp)))"
   ]
  },
  {
   "cell_type": "code",
   "execution_count": null,
   "metadata": {},
   "outputs": [],
   "source": []
  }
 ],
 "metadata": {
  "kernelspec": {
   "display_name": "Python 3",
   "language": "python",
   "name": "python3"
  },
  "language_info": {
   "codemirror_mode": {
    "name": "ipython",
    "version": 3
   },
   "file_extension": ".py",
   "mimetype": "text/x-python",
   "name": "python",
   "nbconvert_exporter": "python",
   "pygments_lexer": "ipython3",
   "version": "3.7.0"
  }
 },
 "nbformat": 4,
 "nbformat_minor": 2
}
